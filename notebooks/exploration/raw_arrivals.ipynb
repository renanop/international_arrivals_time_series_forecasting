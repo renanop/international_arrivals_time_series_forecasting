{
 "cells": [
  {
   "cell_type": "markdown",
   "id": "9c9f4488",
   "metadata": {},
   "source": [
    "## Libraries and Pathes"
   ]
  },
  {
   "cell_type": "code",
   "execution_count": 173,
   "id": "0652ba73",
   "metadata": {},
   "outputs": [
    {
     "name": "stdout",
     "output_type": "stream",
     "text": [
      "Root: /home/renan/academico/series_temporais\n"
     ]
    }
   ],
   "source": [
    "import pandas as pd\n",
    "import sys\n",
    "from pathlib import Path\n",
    "import os\n",
    "import json\n",
    "import seaborn as sns\n",
    "import matplotlib.pyplot as plt\n",
    "import numpy as np\n",
    "\n",
    "# adiciona a pasta src ao sys.path\n",
    "sys.path.append(str(Path.cwd().parent.parent / \"src\")) # Necessário contar quantos niveis subir nas pastas, incluir 1 .parent para cada nivel.\n",
    "\n",
    "# Importa o script paths de utils para geracão de caminhos absolutos\n",
    "from utils.paths import resolve_env_path, PROJECT_ROOT\n",
    "from utils.text_processing import normalize\n",
    "\n",
    "print(\"Root:\", PROJECT_ROOT)\n"
   ]
  },
  {
   "cell_type": "markdown",
   "id": "84e51662",
   "metadata": {},
   "source": [
    "## Environment variables"
   ]
  },
  {
   "cell_type": "code",
   "execution_count": 2,
   "id": "4105837c",
   "metadata": {},
   "outputs": [],
   "source": [
    "# Caminhos para os dados\n",
    "ARRIVALS_PATH = resolve_env_path(\"ARRIVALS_PATH\")\n",
    "ARRIVALS_RAW_PATH = ARRIVALS_PATH / \"raw\"\n",
    "\n",
    "# Caminhos de variaveis de configuracao\n",
    "DATAFRAME_ENCODING = os.getenv(\"DATAFRAME_ENCODING\")\n",
    "\n",
    "# Caminhos para arquivos\n",
    "ARRIVALS_SCHEMA_PATH = resolve_env_path(\"ARRIVALS_SCHEMA_PATH\")\n",
    "ARRIVALS_COLUMN_SYNONYMS_PATH = resolve_env_path(\"ARRIVALS_COLUMN_SYNONYMS_PATH\")"
   ]
  },
  {
   "cell_type": "markdown",
   "id": "eab29c5c",
   "metadata": {},
   "source": [
    "## Importing data"
   ]
  },
  {
   "cell_type": "markdown",
   "id": "fc8a9b32",
   "metadata": {},
   "source": [
    "Read possible column names for historical data on international arrivals"
   ]
  },
  {
   "cell_type": "code",
   "execution_count": 3,
   "id": "23c069e0",
   "metadata": {},
   "outputs": [],
   "source": [
    "with open(ARRIVALS_COLUMN_SYNONYMS_PATH, 'r') as f:\n",
    "    synonyms = json.load(f)"
   ]
  },
  {
   "cell_type": "code",
   "execution_count": 4,
   "id": "775cd179",
   "metadata": {},
   "outputs": [
    {
     "data": {
      "text/plain": [
       "{'continente': 'continent',\n",
       " 'cod_continente': 'continent_id',\n",
       " 'pais': 'country',\n",
       " 'cod_pais': 'country_id',\n",
       " 'uf': 'state',\n",
       " 'cod_uf': 'state_id',\n",
       " 'via': 'entry_route',\n",
       " 'cod_via': 'entry_route_id',\n",
       " 'ano': 'year',\n",
       " 'mes': 'month',\n",
       " 'cod_mes': 'month_id',\n",
       " 'chegadas': 'arrivals',\n",
       " 'ordem_continente': 'continent_id',\n",
       " 'ordem_pais': 'country_id',\n",
       " 'ordem_uf': 'state_id',\n",
       " 'via_de_acesso': 'entry_route',\n",
       " 'ordem_via_de_acesso': 'entry_route_id',\n",
       " 'ordem_mes': 'month_id'}"
      ]
     },
     "execution_count": 4,
     "metadata": {},
     "output_type": "execute_result"
    }
   ],
   "source": [
    "synonyms"
   ]
  },
  {
   "cell_type": "markdown",
   "id": "21e18843",
   "metadata": {},
   "source": [
    "Reading arrivals data:\n",
    "1. Iterate over csv files in the arrivals raw data folder\n",
    "2. read each dataframe\n",
    "3. normalize column names\n",
    "4. rename each column to the desired name according to the canonical set\n"
   ]
  },
  {
   "cell_type": "code",
   "execution_count": 5,
   "id": "c73b0d86",
   "metadata": {},
   "outputs": [],
   "source": [
    "csv_files = ARRIVALS_RAW_PATH.glob(\"*.csv\")\n",
    "\n",
    "dfs = list()\n",
    "for i, file in enumerate(csv_files):\n",
    "    # Read dataframe\n",
    "    data = pd.read_csv(file, encoding=DATAFRAME_ENCODING, sep=\";\")\n",
    "\n",
    "    # Normalize column names\n",
    "    data.columns = [normalize(col) for col in data.columns]\n",
    "\n",
    "    # Rename each column to canonical set\n",
    "    data = data.rename(columns=synonyms)\n",
    "    data[\"file_index\"] = f\"File {i}\"\n",
    "    dfs.append(data)\n",
    "\n",
    "df = pd.concat(dfs, ignore_index=True)\n",
    "\n"
   ]
  },
  {
   "cell_type": "code",
   "execution_count": 7,
   "id": "3b7934cc",
   "metadata": {},
   "outputs": [
    {
     "data": {
      "text/html": [
       "<div>\n",
       "<style scoped>\n",
       "    .dataframe tbody tr th:only-of-type {\n",
       "        vertical-align: middle;\n",
       "    }\n",
       "\n",
       "    .dataframe tbody tr th {\n",
       "        vertical-align: top;\n",
       "    }\n",
       "\n",
       "    .dataframe thead th {\n",
       "        text-align: right;\n",
       "    }\n",
       "</style>\n",
       "<table border=\"1\" class=\"dataframe\">\n",
       "  <thead>\n",
       "    <tr style=\"text-align: right;\">\n",
       "      <th></th>\n",
       "      <th>continent</th>\n",
       "      <th>continent_id</th>\n",
       "      <th>country</th>\n",
       "      <th>country_id</th>\n",
       "      <th>state</th>\n",
       "      <th>state_id</th>\n",
       "      <th>entry_route</th>\n",
       "      <th>entry_route_id</th>\n",
       "      <th>year</th>\n",
       "      <th>month</th>\n",
       "      <th>month_id</th>\n",
       "      <th>arrivals</th>\n",
       "      <th>file_index</th>\n",
       "    </tr>\n",
       "  </thead>\n",
       "  <tbody>\n",
       "    <tr>\n",
       "      <th>0</th>\n",
       "      <td>África</td>\n",
       "      <td>1</td>\n",
       "      <td>África do Sul</td>\n",
       "      <td>2</td>\n",
       "      <td>Acre</td>\n",
       "      <td>1</td>\n",
       "      <td>Terrestre</td>\n",
       "      <td>2</td>\n",
       "      <td>2015</td>\n",
       "      <td>janeiro</td>\n",
       "      <td>1</td>\n",
       "      <td>2.0</td>\n",
       "      <td>File 0</td>\n",
       "    </tr>\n",
       "    <tr>\n",
       "      <th>1</th>\n",
       "      <td>África</td>\n",
       "      <td>1</td>\n",
       "      <td>Angola</td>\n",
       "      <td>6</td>\n",
       "      <td>Acre</td>\n",
       "      <td>1</td>\n",
       "      <td>Terrestre</td>\n",
       "      <td>2</td>\n",
       "      <td>2015</td>\n",
       "      <td>janeiro</td>\n",
       "      <td>1</td>\n",
       "      <td>0.0</td>\n",
       "      <td>File 0</td>\n",
       "    </tr>\n",
       "    <tr>\n",
       "      <th>2</th>\n",
       "      <td>África</td>\n",
       "      <td>1</td>\n",
       "      <td>Cabo Verde</td>\n",
       "      <td>35</td>\n",
       "      <td>Acre</td>\n",
       "      <td>1</td>\n",
       "      <td>Terrestre</td>\n",
       "      <td>2</td>\n",
       "      <td>2015</td>\n",
       "      <td>janeiro</td>\n",
       "      <td>1</td>\n",
       "      <td>0.0</td>\n",
       "      <td>File 0</td>\n",
       "    </tr>\n",
       "    <tr>\n",
       "      <th>3</th>\n",
       "      <td>África</td>\n",
       "      <td>1</td>\n",
       "      <td>Egito</td>\n",
       "      <td>60</td>\n",
       "      <td>Acre</td>\n",
       "      <td>1</td>\n",
       "      <td>Terrestre</td>\n",
       "      <td>2</td>\n",
       "      <td>2015</td>\n",
       "      <td>janeiro</td>\n",
       "      <td>1</td>\n",
       "      <td>0.0</td>\n",
       "      <td>File 0</td>\n",
       "    </tr>\n",
       "    <tr>\n",
       "      <th>4</th>\n",
       "      <td>África</td>\n",
       "      <td>1</td>\n",
       "      <td>Gana</td>\n",
       "      <td>77</td>\n",
       "      <td>Acre</td>\n",
       "      <td>1</td>\n",
       "      <td>Terrestre</td>\n",
       "      <td>2</td>\n",
       "      <td>2015</td>\n",
       "      <td>janeiro</td>\n",
       "      <td>1</td>\n",
       "      <td>0.0</td>\n",
       "      <td>File 0</td>\n",
       "    </tr>\n",
       "  </tbody>\n",
       "</table>\n",
       "</div>"
      ],
      "text/plain": [
       "  continent  continent_id        country  country_id state  state_id  \\\n",
       "0    África             1  África do Sul           2  Acre         1   \n",
       "1    África             1         Angola           6  Acre         1   \n",
       "2    África             1     Cabo Verde          35  Acre         1   \n",
       "3    África             1          Egito          60  Acre         1   \n",
       "4    África             1           Gana          77  Acre         1   \n",
       "\n",
       "  entry_route  entry_route_id  year    month  month_id  arrivals file_index  \n",
       "0   Terrestre               2  2015  janeiro         1       2.0     File 0  \n",
       "1   Terrestre               2  2015  janeiro         1       0.0     File 0  \n",
       "2   Terrestre               2  2015  janeiro         1       0.0     File 0  \n",
       "3   Terrestre               2  2015  janeiro         1       0.0     File 0  \n",
       "4   Terrestre               2  2015  janeiro         1       0.0     File 0  "
      ]
     },
     "execution_count": 7,
     "metadata": {},
     "output_type": "execute_result"
    }
   ],
   "source": [
    "df.head()"
   ]
  },
  {
   "cell_type": "markdown",
   "id": "a4b02463",
   "metadata": {},
   "source": [
    "## Data Exploration"
   ]
  },
  {
   "cell_type": "markdown",
   "id": "b351d3bd",
   "metadata": {},
   "source": [
    "There are no null variables."
   ]
  },
  {
   "cell_type": "code",
   "execution_count": 8,
   "id": "3f07bd6f",
   "metadata": {},
   "outputs": [
    {
     "name": "stdout",
     "output_type": "stream",
     "text": [
      "<class 'pandas.core.frame.DataFrame'>\n",
      "RangeIndex: 762572 entries, 0 to 762571\n",
      "Data columns (total 13 columns):\n",
      " #   Column          Non-Null Count   Dtype  \n",
      "---  ------          --------------   -----  \n",
      " 0   continent       762572 non-null  object \n",
      " 1   continent_id    762572 non-null  int64  \n",
      " 2   country         762572 non-null  object \n",
      " 3   country_id      762572 non-null  int64  \n",
      " 4   state           762572 non-null  object \n",
      " 5   state_id        762572 non-null  int64  \n",
      " 6   entry_route     762572 non-null  object \n",
      " 7   entry_route_id  762572 non-null  int64  \n",
      " 8   year            762572 non-null  int64  \n",
      " 9   month           762572 non-null  object \n",
      " 10  month_id        762572 non-null  int64  \n",
      " 11  arrivals        755660 non-null  float64\n",
      " 12  file_index      762572 non-null  object \n",
      "dtypes: float64(1), int64(6), object(6)\n",
      "memory usage: 75.6+ MB\n"
     ]
    }
   ],
   "source": [
    "df.info()"
   ]
  },
  {
   "cell_type": "markdown",
   "id": "3c1e4f2d",
   "metadata": {},
   "source": [
    "### Continent and country data quality evaluation\n",
    "#### Continent"
   ]
  },
  {
   "cell_type": "code",
   "execution_count": 9,
   "id": "4387582f",
   "metadata": {},
   "outputs": [
    {
     "data": {
      "text/plain": [
       "array(['África', 'América Central e Caribe', 'América do Norte',\n",
       "       'América do Sul', 'Ásia', 'Europa', 'Oceania',\n",
       "       'Continente não especificado'], dtype=object)"
      ]
     },
     "execution_count": 9,
     "metadata": {},
     "output_type": "execute_result"
    }
   ],
   "source": [
    "df[\"continent\"].unique()"
   ]
  },
  {
   "cell_type": "code",
   "execution_count": 12,
   "id": "618dd21f",
   "metadata": {},
   "outputs": [
    {
     "data": {
      "text/html": [
       "<div>\n",
       "<style scoped>\n",
       "    .dataframe tbody tr th:only-of-type {\n",
       "        vertical-align: middle;\n",
       "    }\n",
       "\n",
       "    .dataframe tbody tr th {\n",
       "        vertical-align: top;\n",
       "    }\n",
       "\n",
       "    .dataframe thead th {\n",
       "        text-align: right;\n",
       "    }\n",
       "</style>\n",
       "<table border=\"1\" class=\"dataframe\">\n",
       "  <thead>\n",
       "    <tr style=\"text-align: right;\">\n",
       "      <th></th>\n",
       "      <th>continent</th>\n",
       "      <th>continent_id</th>\n",
       "      <th>country</th>\n",
       "      <th>country_id</th>\n",
       "      <th>state</th>\n",
       "      <th>state_id</th>\n",
       "      <th>entry_route</th>\n",
       "      <th>entry_route_id</th>\n",
       "      <th>year</th>\n",
       "      <th>month</th>\n",
       "      <th>month_id</th>\n",
       "      <th>arrivals</th>\n",
       "      <th>file_index</th>\n",
       "    </tr>\n",
       "  </thead>\n",
       "  <tbody>\n",
       "    <tr>\n",
       "      <th>92</th>\n",
       "      <td>Continente não especificado</td>\n",
       "      <td>8</td>\n",
       "      <td>Países não especificados</td>\n",
       "      <td>999</td>\n",
       "      <td>Acre</td>\n",
       "      <td>1</td>\n",
       "      <td>Terrestre</td>\n",
       "      <td>2</td>\n",
       "      <td>2015</td>\n",
       "      <td>janeiro</td>\n",
       "      <td>1</td>\n",
       "      <td>0.0</td>\n",
       "      <td>File 0</td>\n",
       "    </tr>\n",
       "    <tr>\n",
       "      <th>185</th>\n",
       "      <td>Continente não especificado</td>\n",
       "      <td>8</td>\n",
       "      <td>Países não especificados</td>\n",
       "      <td>999</td>\n",
       "      <td>Acre</td>\n",
       "      <td>1</td>\n",
       "      <td>Terrestre</td>\n",
       "      <td>2</td>\n",
       "      <td>2015</td>\n",
       "      <td>fevereiro</td>\n",
       "      <td>2</td>\n",
       "      <td>0.0</td>\n",
       "      <td>File 0</td>\n",
       "    </tr>\n",
       "    <tr>\n",
       "      <th>278</th>\n",
       "      <td>Continente não especificado</td>\n",
       "      <td>8</td>\n",
       "      <td>Países não especificados</td>\n",
       "      <td>999</td>\n",
       "      <td>Acre</td>\n",
       "      <td>1</td>\n",
       "      <td>Terrestre</td>\n",
       "      <td>2</td>\n",
       "      <td>2015</td>\n",
       "      <td>março</td>\n",
       "      <td>3</td>\n",
       "      <td>0.0</td>\n",
       "      <td>File 0</td>\n",
       "    </tr>\n",
       "    <tr>\n",
       "      <th>371</th>\n",
       "      <td>Continente não especificado</td>\n",
       "      <td>8</td>\n",
       "      <td>Países não especificados</td>\n",
       "      <td>999</td>\n",
       "      <td>Acre</td>\n",
       "      <td>1</td>\n",
       "      <td>Terrestre</td>\n",
       "      <td>2</td>\n",
       "      <td>2015</td>\n",
       "      <td>abril</td>\n",
       "      <td>4</td>\n",
       "      <td>0.0</td>\n",
       "      <td>File 0</td>\n",
       "    </tr>\n",
       "    <tr>\n",
       "      <th>464</th>\n",
       "      <td>Continente não especificado</td>\n",
       "      <td>8</td>\n",
       "      <td>Países não especificados</td>\n",
       "      <td>999</td>\n",
       "      <td>Acre</td>\n",
       "      <td>1</td>\n",
       "      <td>Terrestre</td>\n",
       "      <td>2</td>\n",
       "      <td>2015</td>\n",
       "      <td>maio</td>\n",
       "      <td>5</td>\n",
       "      <td>0.0</td>\n",
       "      <td>File 0</td>\n",
       "    </tr>\n",
       "    <tr>\n",
       "      <th>...</th>\n",
       "      <td>...</td>\n",
       "      <td>...</td>\n",
       "      <td>...</td>\n",
       "      <td>...</td>\n",
       "      <td>...</td>\n",
       "      <td>...</td>\n",
       "      <td>...</td>\n",
       "      <td>...</td>\n",
       "      <td>...</td>\n",
       "      <td>...</td>\n",
       "      <td>...</td>\n",
       "      <td>...</td>\n",
       "      <td>...</td>\n",
       "    </tr>\n",
       "    <tr>\n",
       "      <th>762255</th>\n",
       "      <td>Continente não especificado</td>\n",
       "      <td>8</td>\n",
       "      <td>Países não especificados</td>\n",
       "      <td>999</td>\n",
       "      <td>São Paulo</td>\n",
       "      <td>25</td>\n",
       "      <td>Marítima</td>\n",
       "      <td>3</td>\n",
       "      <td>2018</td>\n",
       "      <td>agosto</td>\n",
       "      <td>8</td>\n",
       "      <td>0.0</td>\n",
       "      <td>File 24</td>\n",
       "    </tr>\n",
       "    <tr>\n",
       "      <th>762256</th>\n",
       "      <td>Continente não especificado</td>\n",
       "      <td>8</td>\n",
       "      <td>Países não especificados</td>\n",
       "      <td>999</td>\n",
       "      <td>São Paulo</td>\n",
       "      <td>25</td>\n",
       "      <td>Marítima</td>\n",
       "      <td>3</td>\n",
       "      <td>2018</td>\n",
       "      <td>setembro</td>\n",
       "      <td>9</td>\n",
       "      <td>0.0</td>\n",
       "      <td>File 24</td>\n",
       "    </tr>\n",
       "    <tr>\n",
       "      <th>762257</th>\n",
       "      <td>Continente não especificado</td>\n",
       "      <td>8</td>\n",
       "      <td>Países não especificados</td>\n",
       "      <td>999</td>\n",
       "      <td>São Paulo</td>\n",
       "      <td>25</td>\n",
       "      <td>Marítima</td>\n",
       "      <td>3</td>\n",
       "      <td>2018</td>\n",
       "      <td>outubro</td>\n",
       "      <td>10</td>\n",
       "      <td>0.0</td>\n",
       "      <td>File 24</td>\n",
       "    </tr>\n",
       "    <tr>\n",
       "      <th>762258</th>\n",
       "      <td>Continente não especificado</td>\n",
       "      <td>8</td>\n",
       "      <td>Países não especificados</td>\n",
       "      <td>999</td>\n",
       "      <td>São Paulo</td>\n",
       "      <td>25</td>\n",
       "      <td>Marítima</td>\n",
       "      <td>3</td>\n",
       "      <td>2018</td>\n",
       "      <td>novembro</td>\n",
       "      <td>11</td>\n",
       "      <td>0.0</td>\n",
       "      <td>File 24</td>\n",
       "    </tr>\n",
       "    <tr>\n",
       "      <th>762259</th>\n",
       "      <td>Continente não especificado</td>\n",
       "      <td>8</td>\n",
       "      <td>Países não especificados</td>\n",
       "      <td>999</td>\n",
       "      <td>São Paulo</td>\n",
       "      <td>25</td>\n",
       "      <td>Marítima</td>\n",
       "      <td>3</td>\n",
       "      <td>2018</td>\n",
       "      <td>dezembro</td>\n",
       "      <td>12</td>\n",
       "      <td>0.0</td>\n",
       "      <td>File 24</td>\n",
       "    </tr>\n",
       "  </tbody>\n",
       "</table>\n",
       "<p>10139 rows × 13 columns</p>\n",
       "</div>"
      ],
      "text/plain": [
       "                          continent  continent_id                   country  \\\n",
       "92      Continente não especificado             8  Países não especificados   \n",
       "185     Continente não especificado             8  Países não especificados   \n",
       "278     Continente não especificado             8  Países não especificados   \n",
       "371     Continente não especificado             8  Países não especificados   \n",
       "464     Continente não especificado             8  Países não especificados   \n",
       "...                             ...           ...                       ...   \n",
       "762255  Continente não especificado             8  Países não especificados   \n",
       "762256  Continente não especificado             8  Países não especificados   \n",
       "762257  Continente não especificado             8  Países não especificados   \n",
       "762258  Continente não especificado             8  Países não especificados   \n",
       "762259  Continente não especificado             8  Países não especificados   \n",
       "\n",
       "        country_id      state  state_id entry_route  entry_route_id  year  \\\n",
       "92             999       Acre         1   Terrestre               2  2015   \n",
       "185            999       Acre         1   Terrestre               2  2015   \n",
       "278            999       Acre         1   Terrestre               2  2015   \n",
       "371            999       Acre         1   Terrestre               2  2015   \n",
       "464            999       Acre         1   Terrestre               2  2015   \n",
       "...            ...        ...       ...         ...             ...   ...   \n",
       "762255         999  São Paulo        25    Marítima               3  2018   \n",
       "762256         999  São Paulo        25    Marítima               3  2018   \n",
       "762257         999  São Paulo        25    Marítima               3  2018   \n",
       "762258         999  São Paulo        25    Marítima               3  2018   \n",
       "762259         999  São Paulo        25    Marítima               3  2018   \n",
       "\n",
       "            month  month_id  arrivals file_index  \n",
       "92        janeiro         1       0.0     File 0  \n",
       "185     fevereiro         2       0.0     File 0  \n",
       "278         março         3       0.0     File 0  \n",
       "371         abril         4       0.0     File 0  \n",
       "464          maio         5       0.0     File 0  \n",
       "...           ...       ...       ...        ...  \n",
       "762255     agosto         8       0.0    File 24  \n",
       "762256   setembro         9       0.0    File 24  \n",
       "762257    outubro        10       0.0    File 24  \n",
       "762258   novembro        11       0.0    File 24  \n",
       "762259   dezembro        12       0.0    File 24  \n",
       "\n",
       "[10139 rows x 13 columns]"
      ]
     },
     "execution_count": 12,
     "metadata": {},
     "output_type": "execute_result"
    }
   ],
   "source": [
    "no_continent_df = df[df[\"continent\"] == \"Continente não especificado\"]\n",
    "no_continent_df"
   ]
  },
  {
   "cell_type": "code",
   "execution_count": 13,
   "id": "82fb44ae",
   "metadata": {},
   "outputs": [
    {
     "data": {
      "text/plain": [
       "array(['Países não especificados'], dtype=object)"
      ]
     },
     "execution_count": 13,
     "metadata": {},
     "output_type": "execute_result"
    }
   ],
   "source": [
    "no_continent_df[\"country\"].unique()"
   ]
  },
  {
   "cell_type": "markdown",
   "id": "966976dc",
   "metadata": {},
   "source": [
    "There is no NaN data, but there are specific labels to deal with data there has missing values for country, which lead to missing values for continent as well. We should evaluate how many arrivals does that represent, in terms of the total arrivals."
   ]
  },
  {
   "cell_type": "code",
   "execution_count": 20,
   "id": "24d9d9bb",
   "metadata": {},
   "outputs": [
    {
     "data": {
      "text/plain": [
       "continent\n",
       "América do Sul                 0.500297\n",
       "Europa                         0.289611\n",
       "América do Norte               0.139763\n",
       "Ásia                           0.040778\n",
       "África                         0.012940\n",
       "Oceania                        0.008233\n",
       "América Central e Caribe       0.007844\n",
       "Continente não especificado    0.000535\n",
       "Name: arrivals, dtype: float64"
      ]
     },
     "execution_count": 20,
     "metadata": {},
     "output_type": "execute_result"
    }
   ],
   "source": [
    "(df.groupby(\"continent\")[\"arrivals\"].sum() / df[\"arrivals\"].sum()).sort_values(ascending=False)"
   ]
  },
  {
   "cell_type": "markdown",
   "id": "3f9778ed",
   "metadata": {},
   "source": [
    "Missing continent data represent approximately 0.05%, so it should be fine to ignore it, if we choose to make a hierarchical model by continent."
   ]
  },
  {
   "cell_type": "markdown",
   "id": "e6e268f3",
   "metadata": {},
   "source": [
    "#### Countries"
   ]
  },
  {
   "cell_type": "code",
   "execution_count": 23,
   "id": "a062de7b",
   "metadata": {},
   "outputs": [
    {
     "data": {
      "text/plain": [
       "array(['África do Sul', 'Angola', 'Cabo Verde', 'Egito', 'Gana',\n",
       "       'Marrocos', 'Moçambique', 'Nigéria', 'Quênia', 'Tunísia',\n",
       "       'Outros países', 'Costa Rica', 'Cuba', 'El Salvador', 'Guatemala',\n",
       "       'Haiti', 'Honduras', 'Nicarágua', 'Panamá', 'República Dominicana',\n",
       "       'Trinidad e Tobago', 'Canadá', 'Estados Unidos', 'México',\n",
       "       'Argentina', 'Bolívia', 'Chile', 'Colômbia', 'Equador', 'Guiana',\n",
       "       'Guiana Francesa', 'Paraguai', 'Peru', 'Suriname', 'Uruguai',\n",
       "       'Venezuela', 'Arábia Saudita', 'Bangladesh', 'China',\n",
       "       'China, Hong Kong', 'Cingapura', 'Filipinas', 'Índia', 'Indonésia',\n",
       "       'Irã', 'Israel', 'Japão', 'Líbano', 'Malásia', 'Paquistão',\n",
       "       'República da Coreia', 'Síria', 'Tailândia', 'Taiwan', 'Alemanha',\n",
       "       'Áustria', 'Bélgica', 'Bulgária', 'Croácia', 'Dinamarca',\n",
       "       'Eslováquia', 'Eslovênia', 'Espanha', 'Estônia', 'Finlândia',\n",
       "       'França', 'Grécia', 'Holanda', 'Hungria', 'Irlanda', 'Itália',\n",
       "       'Letônia', 'Lituânia', 'Luxemburgo', 'Noruega', 'Polônia',\n",
       "       'Portugal', 'Reino Unido', 'República Tcheca', 'Romênia', 'Rússia',\n",
       "       'Sérvia', 'Suécia', 'Suíça', 'Turquia', 'Ucrânia', 'Austrália',\n",
       "       'Nova Zelândia', 'Países não especificados',\n",
       "       'Outros países da América Central e Caribe',\n",
       "       'Outros países da Europa', 'Outros países da Ásia',\n",
       "       'Outros países da África', 'Outros países da Oceania',\n",
       "       'Porto Rico', 'Iraque'], dtype=object)"
      ]
     },
     "execution_count": 23,
     "metadata": {},
     "output_type": "execute_result"
    }
   ],
   "source": [
    "df[\"country\"].unique()"
   ]
  },
  {
   "cell_type": "markdown",
   "id": "031b534a",
   "metadata": {},
   "source": [
    "Missing data categories:\n",
    "* Outros países\n",
    "* Países não especificados\n",
    "* Outros países da Europa\n",
    "* Outros países da Ásia\n",
    "* Outros países da África\n",
    "* Outros países da Oceania\n",
    "\n",
    "Missing data categories seem to be consistent over years."
   ]
  },
  {
   "cell_type": "code",
   "execution_count": null,
   "id": "31f79212",
   "metadata": {},
   "outputs": [],
   "source": [
    "missing_country_cats = [\n",
    "    \"Outros países\",\n",
    "    \"Países não especificados\",\n",
    "    \"Outros países da Europa\",\n",
    "    \"Outros países da Ásia\",\n",
    "    \"Outros países da África\",\n",
    "    \"Outros países da Oceania\"\n",
    "    ]"
   ]
  },
  {
   "cell_type": "code",
   "execution_count": 27,
   "id": "6f8acf92",
   "metadata": {},
   "outputs": [
    {
     "data": {
      "text/plain": [
       "continent                    country                 \n",
       "Ásia                         Outros países               14043\n",
       "África                       Outros países               11725\n",
       "Europa                       Outros países               11455\n",
       "América Central e Caribe     Outros países               10890\n",
       "Continente não especificado  Países não especificados    10139\n",
       "Oceania                      Outros países                7548\n",
       "África                       Outros países da África      1051\n",
       "Ásia                         Outros países da Ásia         884\n",
       "Europa                       Outros países da Europa       832\n",
       "Oceania                      Outros países da Oceania       63\n",
       "Name: count, dtype: int64"
      ]
     },
     "execution_count": 27,
     "metadata": {},
     "output_type": "execute_result"
    }
   ],
   "source": [
    "df[df[\"country\"].isin(missing_country_cats)][[\"continent\", \"country\"]].value_counts()"
   ]
  },
  {
   "cell_type": "markdown",
   "id": "560333d3",
   "metadata": {},
   "source": [
    "The rule for categorizing missing information seem to have changed at some point. Some rows have only \"Outros países\" as a tag, and others have appended continent information, like \"Outros países da África\", which is redundant, since there exists a continent column.\n",
    "\n",
    "It is not a big deal, however, this could be a problem for a hierarchical model using country information. It seems to be more reasonable to work with continent data, which is generally available."
   ]
  },
  {
   "cell_type": "code",
   "execution_count": 36,
   "id": "76fb041a",
   "metadata": {},
   "outputs": [],
   "source": [
    "country_arrivals_percentage = df.groupby(\"country\")[\"arrivals\"].sum() / df[\"arrivals\"].sum()"
   ]
  },
  {
   "cell_type": "code",
   "execution_count": 39,
   "id": "7fc2c8f9",
   "metadata": {},
   "outputs": [
    {
     "data": {
      "text/plain": [
       "country\n",
       "Outros países               1.650707e-02\n",
       "Países não especificados    5.345204e-04\n",
       "Outros países da Europa     4.806299e-05\n",
       "Outros países da Ásia       1.048477e-04\n",
       "Outros países da África     7.944709e-05\n",
       "Outros países da Oceania    8.971342e-07\n",
       "Name: arrivals, dtype: float64"
      ]
     },
     "execution_count": 39,
     "metadata": {},
     "output_type": "execute_result"
    }
   ],
   "source": [
    "country_arrivals_percentage.loc[missing_country_cats]"
   ]
  },
  {
   "cell_type": "code",
   "execution_count": 41,
   "id": "fa65b005",
   "metadata": {},
   "outputs": [
    {
     "data": {
      "text/plain": [
       "np.float64(0.017274850218563356)"
      ]
     },
     "execution_count": 41,
     "metadata": {},
     "output_type": "execute_result"
    }
   ],
   "source": [
    "country_arrivals_percentage.loc[missing_country_cats].sum()"
   ]
  },
  {
   "cell_type": "markdown",
   "id": "245a9a8b",
   "metadata": {},
   "source": [
    "Missing countries correspond to almost 2% of the arrivals, so it could be a problem. We should evaluate that over time."
   ]
  },
  {
   "cell_type": "code",
   "execution_count": 42,
   "id": "c257c82c",
   "metadata": {},
   "outputs": [
    {
     "data": {
      "text/html": [
       "<div>\n",
       "<style scoped>\n",
       "    .dataframe tbody tr th:only-of-type {\n",
       "        vertical-align: middle;\n",
       "    }\n",
       "\n",
       "    .dataframe tbody tr th {\n",
       "        vertical-align: top;\n",
       "    }\n",
       "\n",
       "    .dataframe thead th {\n",
       "        text-align: right;\n",
       "    }\n",
       "</style>\n",
       "<table border=\"1\" class=\"dataframe\">\n",
       "  <thead>\n",
       "    <tr style=\"text-align: right;\">\n",
       "      <th></th>\n",
       "      <th>continent</th>\n",
       "      <th>continent_id</th>\n",
       "      <th>country</th>\n",
       "      <th>country_id</th>\n",
       "      <th>state</th>\n",
       "      <th>state_id</th>\n",
       "      <th>entry_route</th>\n",
       "      <th>entry_route_id</th>\n",
       "      <th>year</th>\n",
       "      <th>month</th>\n",
       "      <th>month_id</th>\n",
       "      <th>arrivals</th>\n",
       "      <th>file_index</th>\n",
       "    </tr>\n",
       "  </thead>\n",
       "  <tbody>\n",
       "    <tr>\n",
       "      <th>0</th>\n",
       "      <td>África</td>\n",
       "      <td>1</td>\n",
       "      <td>África do Sul</td>\n",
       "      <td>2</td>\n",
       "      <td>Acre</td>\n",
       "      <td>1</td>\n",
       "      <td>Terrestre</td>\n",
       "      <td>2</td>\n",
       "      <td>2015</td>\n",
       "      <td>janeiro</td>\n",
       "      <td>1</td>\n",
       "      <td>2.0</td>\n",
       "      <td>File 0</td>\n",
       "    </tr>\n",
       "    <tr>\n",
       "      <th>1</th>\n",
       "      <td>África</td>\n",
       "      <td>1</td>\n",
       "      <td>Angola</td>\n",
       "      <td>6</td>\n",
       "      <td>Acre</td>\n",
       "      <td>1</td>\n",
       "      <td>Terrestre</td>\n",
       "      <td>2</td>\n",
       "      <td>2015</td>\n",
       "      <td>janeiro</td>\n",
       "      <td>1</td>\n",
       "      <td>0.0</td>\n",
       "      <td>File 0</td>\n",
       "    </tr>\n",
       "    <tr>\n",
       "      <th>2</th>\n",
       "      <td>África</td>\n",
       "      <td>1</td>\n",
       "      <td>Cabo Verde</td>\n",
       "      <td>35</td>\n",
       "      <td>Acre</td>\n",
       "      <td>1</td>\n",
       "      <td>Terrestre</td>\n",
       "      <td>2</td>\n",
       "      <td>2015</td>\n",
       "      <td>janeiro</td>\n",
       "      <td>1</td>\n",
       "      <td>0.0</td>\n",
       "      <td>File 0</td>\n",
       "    </tr>\n",
       "    <tr>\n",
       "      <th>3</th>\n",
       "      <td>África</td>\n",
       "      <td>1</td>\n",
       "      <td>Egito</td>\n",
       "      <td>60</td>\n",
       "      <td>Acre</td>\n",
       "      <td>1</td>\n",
       "      <td>Terrestre</td>\n",
       "      <td>2</td>\n",
       "      <td>2015</td>\n",
       "      <td>janeiro</td>\n",
       "      <td>1</td>\n",
       "      <td>0.0</td>\n",
       "      <td>File 0</td>\n",
       "    </tr>\n",
       "    <tr>\n",
       "      <th>4</th>\n",
       "      <td>África</td>\n",
       "      <td>1</td>\n",
       "      <td>Gana</td>\n",
       "      <td>77</td>\n",
       "      <td>Acre</td>\n",
       "      <td>1</td>\n",
       "      <td>Terrestre</td>\n",
       "      <td>2</td>\n",
       "      <td>2015</td>\n",
       "      <td>janeiro</td>\n",
       "      <td>1</td>\n",
       "      <td>0.0</td>\n",
       "      <td>File 0</td>\n",
       "    </tr>\n",
       "    <tr>\n",
       "      <th>...</th>\n",
       "      <td>...</td>\n",
       "      <td>...</td>\n",
       "      <td>...</td>\n",
       "      <td>...</td>\n",
       "      <td>...</td>\n",
       "      <td>...</td>\n",
       "      <td>...</td>\n",
       "      <td>...</td>\n",
       "      <td>...</td>\n",
       "      <td>...</td>\n",
       "      <td>...</td>\n",
       "      <td>...</td>\n",
       "      <td>...</td>\n",
       "    </tr>\n",
       "    <tr>\n",
       "      <th>762567</th>\n",
       "      <td>América do Sul</td>\n",
       "      <td>4</td>\n",
       "      <td>Venezuela</td>\n",
       "      <td>238</td>\n",
       "      <td>São Paulo</td>\n",
       "      <td>25</td>\n",
       "      <td>Marítima</td>\n",
       "      <td>3</td>\n",
       "      <td>2018</td>\n",
       "      <td>agosto</td>\n",
       "      <td>8</td>\n",
       "      <td>0.0</td>\n",
       "      <td>File 24</td>\n",
       "    </tr>\n",
       "    <tr>\n",
       "      <th>762568</th>\n",
       "      <td>América do Sul</td>\n",
       "      <td>4</td>\n",
       "      <td>Venezuela</td>\n",
       "      <td>238</td>\n",
       "      <td>São Paulo</td>\n",
       "      <td>25</td>\n",
       "      <td>Marítima</td>\n",
       "      <td>3</td>\n",
       "      <td>2018</td>\n",
       "      <td>setembro</td>\n",
       "      <td>9</td>\n",
       "      <td>0.0</td>\n",
       "      <td>File 24</td>\n",
       "    </tr>\n",
       "    <tr>\n",
       "      <th>762569</th>\n",
       "      <td>América do Sul</td>\n",
       "      <td>4</td>\n",
       "      <td>Venezuela</td>\n",
       "      <td>238</td>\n",
       "      <td>São Paulo</td>\n",
       "      <td>25</td>\n",
       "      <td>Marítima</td>\n",
       "      <td>3</td>\n",
       "      <td>2018</td>\n",
       "      <td>outubro</td>\n",
       "      <td>10</td>\n",
       "      <td>0.0</td>\n",
       "      <td>File 24</td>\n",
       "    </tr>\n",
       "    <tr>\n",
       "      <th>762570</th>\n",
       "      <td>América do Sul</td>\n",
       "      <td>4</td>\n",
       "      <td>Venezuela</td>\n",
       "      <td>238</td>\n",
       "      <td>São Paulo</td>\n",
       "      <td>25</td>\n",
       "      <td>Marítima</td>\n",
       "      <td>3</td>\n",
       "      <td>2018</td>\n",
       "      <td>novembro</td>\n",
       "      <td>11</td>\n",
       "      <td>0.0</td>\n",
       "      <td>File 24</td>\n",
       "    </tr>\n",
       "    <tr>\n",
       "      <th>762571</th>\n",
       "      <td>América do Sul</td>\n",
       "      <td>4</td>\n",
       "      <td>Venezuela</td>\n",
       "      <td>238</td>\n",
       "      <td>São Paulo</td>\n",
       "      <td>25</td>\n",
       "      <td>Marítima</td>\n",
       "      <td>3</td>\n",
       "      <td>2018</td>\n",
       "      <td>dezembro</td>\n",
       "      <td>12</td>\n",
       "      <td>8.0</td>\n",
       "      <td>File 24</td>\n",
       "    </tr>\n",
       "  </tbody>\n",
       "</table>\n",
       "<p>762572 rows × 13 columns</p>\n",
       "</div>"
      ],
      "text/plain": [
       "             continent  continent_id        country  country_id      state  \\\n",
       "0               África             1  África do Sul           2       Acre   \n",
       "1               África             1         Angola           6       Acre   \n",
       "2               África             1     Cabo Verde          35       Acre   \n",
       "3               África             1          Egito          60       Acre   \n",
       "4               África             1           Gana          77       Acre   \n",
       "...                ...           ...            ...         ...        ...   \n",
       "762567  América do Sul             4      Venezuela         238  São Paulo   \n",
       "762568  América do Sul             4      Venezuela         238  São Paulo   \n",
       "762569  América do Sul             4      Venezuela         238  São Paulo   \n",
       "762570  América do Sul             4      Venezuela         238  São Paulo   \n",
       "762571  América do Sul             4      Venezuela         238  São Paulo   \n",
       "\n",
       "        state_id entry_route  entry_route_id  year     month  month_id  \\\n",
       "0              1   Terrestre               2  2015   janeiro         1   \n",
       "1              1   Terrestre               2  2015   janeiro         1   \n",
       "2              1   Terrestre               2  2015   janeiro         1   \n",
       "3              1   Terrestre               2  2015   janeiro         1   \n",
       "4              1   Terrestre               2  2015   janeiro         1   \n",
       "...          ...         ...             ...   ...       ...       ...   \n",
       "762567        25    Marítima               3  2018    agosto         8   \n",
       "762568        25    Marítima               3  2018  setembro         9   \n",
       "762569        25    Marítima               3  2018   outubro        10   \n",
       "762570        25    Marítima               3  2018  novembro        11   \n",
       "762571        25    Marítima               3  2018  dezembro        12   \n",
       "\n",
       "        arrivals file_index  \n",
       "0            2.0     File 0  \n",
       "1            0.0     File 0  \n",
       "2            0.0     File 0  \n",
       "3            0.0     File 0  \n",
       "4            0.0     File 0  \n",
       "...          ...        ...  \n",
       "762567       0.0    File 24  \n",
       "762568       0.0    File 24  \n",
       "762569       0.0    File 24  \n",
       "762570       0.0    File 24  \n",
       "762571       8.0    File 24  \n",
       "\n",
       "[762572 rows x 13 columns]"
      ]
     },
     "execution_count": 42,
     "metadata": {},
     "output_type": "execute_result"
    }
   ],
   "source": [
    "df"
   ]
  },
  {
   "cell_type": "code",
   "execution_count": 125,
   "id": "09216402",
   "metadata": {},
   "outputs": [],
   "source": [
    "def calculate_missing_data_over_time(df, group_column, filter_column, filter_value, value_column) -> pd.DataFrame:\n",
    "\n",
    "    # Calculate missing data over groups with filter\n",
    "    filtered_df = df[df[filter_column].isin(filter_value)]\n",
    "    grouped_df = filtered_df.groupby(group_column)[value_column].sum().reset_index()\n",
    "\n",
    "    # Calculate total missing data\n",
    "    total_df = df.groupby(group_column)[value_column].sum().reset_index()\n",
    "\n",
    "    # Joining\n",
    "    final_df = total_df.merge(right=grouped_df, on=group_column, suffixes=(\"_total\", \"_filtered\"))\n",
    "\n",
    "    return final_df"
   ]
  },
  {
   "cell_type": "code",
   "execution_count": 126,
   "id": "875ba8be",
   "metadata": {},
   "outputs": [
    {
     "data": {
      "text/html": [
       "<div>\n",
       "<style scoped>\n",
       "    .dataframe tbody tr th:only-of-type {\n",
       "        vertical-align: middle;\n",
       "    }\n",
       "\n",
       "    .dataframe tbody tr th {\n",
       "        vertical-align: top;\n",
       "    }\n",
       "\n",
       "    .dataframe thead th {\n",
       "        text-align: right;\n",
       "    }\n",
       "</style>\n",
       "<table border=\"1\" class=\"dataframe\">\n",
       "  <thead>\n",
       "    <tr style=\"text-align: right;\">\n",
       "      <th></th>\n",
       "      <th>year</th>\n",
       "      <th>arrivals_total</th>\n",
       "      <th>arrivals_filtered</th>\n",
       "      <th>missing_ratio</th>\n",
       "    </tr>\n",
       "  </thead>\n",
       "  <tbody>\n",
       "    <tr>\n",
       "      <th>20</th>\n",
       "      <td>2020</td>\n",
       "      <td>2146435.0</td>\n",
       "      <td>9.0</td>\n",
       "      <td>0.000004</td>\n",
       "    </tr>\n",
       "    <tr>\n",
       "      <th>21</th>\n",
       "      <td>2021</td>\n",
       "      <td>745871.0</td>\n",
       "      <td>10.0</td>\n",
       "      <td>0.000013</td>\n",
       "    </tr>\n",
       "    <tr>\n",
       "      <th>22</th>\n",
       "      <td>2022</td>\n",
       "      <td>3630031.0</td>\n",
       "      <td>43.0</td>\n",
       "      <td>0.000012</td>\n",
       "    </tr>\n",
       "    <tr>\n",
       "      <th>23</th>\n",
       "      <td>2023</td>\n",
       "      <td>5908341.0</td>\n",
       "      <td>72.0</td>\n",
       "      <td>0.000012</td>\n",
       "    </tr>\n",
       "    <tr>\n",
       "      <th>24</th>\n",
       "      <td>2024</td>\n",
       "      <td>6773619.0</td>\n",
       "      <td>56.0</td>\n",
       "      <td>0.000008</td>\n",
       "    </tr>\n",
       "  </tbody>\n",
       "</table>\n",
       "</div>"
      ],
      "text/plain": [
       "    year  arrivals_total  arrivals_filtered  missing_ratio\n",
       "20  2020       2146435.0                9.0       0.000004\n",
       "21  2021        745871.0               10.0       0.000013\n",
       "22  2022       3630031.0               43.0       0.000012\n",
       "23  2023       5908341.0               72.0       0.000012\n",
       "24  2024       6773619.0               56.0       0.000008"
      ]
     },
     "execution_count": 126,
     "metadata": {},
     "output_type": "execute_result"
    }
   ],
   "source": [
    "missing_arrivals_by_continent_df = calculate_missing_data_over_time(\n",
    "    df = df,\n",
    "    group_column=\"year\",\n",
    "    filter_column=\"continent\",\n",
    "    filter_value=[\"Continente não especificado\"],\n",
    "    value_column=\"arrivals\"\n",
    ")\n",
    "\n",
    "missing_arrivals_by_continent_df[\"missing_ratio\"] = missing_arrivals_by_continent_df[\"arrivals_filtered\"] / missing_arrivals_by_continent_df[\"arrivals_total\"]\n",
    "\n",
    "missing_arrivals_by_continent_df.tail()"
   ]
  },
  {
   "cell_type": "code",
   "execution_count": 143,
   "id": "c7883852",
   "metadata": {},
   "outputs": [
    {
     "data": {
      "image/png": "[encoded data removed]",
      "text/plain": [
       "<Figure size 800x500 with 1 Axes>"
      ]
     },
     "metadata": {},
     "output_type": "display_data"
    }
   ],
   "source": [
    "fig, ax = plt.subplots(figsize=(8,5))\n",
    "sns.lineplot(data=missing_arrivals_by_continent_df, x=\"year\", y=\"missing_ratio\", ax=ax, marker=\"o\")\n",
    "ax.set_title(\"Missing continent information per year\")\n",
    "plt.show()"
   ]
  },
  {
   "cell_type": "code",
   "execution_count": 123,
   "id": "8ba5a05a",
   "metadata": {},
   "outputs": [
    {
     "data": {
      "text/html": [
       "<div>\n",
       "<style scoped>\n",
       "    .dataframe tbody tr th:only-of-type {\n",
       "        vertical-align: middle;\n",
       "    }\n",
       "\n",
       "    .dataframe tbody tr th {\n",
       "        vertical-align: top;\n",
       "    }\n",
       "\n",
       "    .dataframe thead th {\n",
       "        text-align: right;\n",
       "    }\n",
       "</style>\n",
       "<table border=\"1\" class=\"dataframe\">\n",
       "  <thead>\n",
       "    <tr style=\"text-align: right;\">\n",
       "      <th></th>\n",
       "      <th>year</th>\n",
       "      <th>arrivals_total</th>\n",
       "      <th>arrivals_filtered</th>\n",
       "      <th>missing_ratio</th>\n",
       "    </tr>\n",
       "  </thead>\n",
       "  <tbody>\n",
       "    <tr>\n",
       "      <th>20</th>\n",
       "      <td>2020</td>\n",
       "      <td>2146435.0</td>\n",
       "      <td>5746.0</td>\n",
       "      <td>0.002677</td>\n",
       "    </tr>\n",
       "    <tr>\n",
       "      <th>21</th>\n",
       "      <td>2021</td>\n",
       "      <td>745871.0</td>\n",
       "      <td>4697.0</td>\n",
       "      <td>0.006297</td>\n",
       "    </tr>\n",
       "    <tr>\n",
       "      <th>22</th>\n",
       "      <td>2022</td>\n",
       "      <td>3630031.0</td>\n",
       "      <td>17690.0</td>\n",
       "      <td>0.004873</td>\n",
       "    </tr>\n",
       "    <tr>\n",
       "      <th>23</th>\n",
       "      <td>2023</td>\n",
       "      <td>5908341.0</td>\n",
       "      <td>26013.0</td>\n",
       "      <td>0.004403</td>\n",
       "    </tr>\n",
       "    <tr>\n",
       "      <th>24</th>\n",
       "      <td>2024</td>\n",
       "      <td>6773619.0</td>\n",
       "      <td>29956.0</td>\n",
       "      <td>0.004422</td>\n",
       "    </tr>\n",
       "  </tbody>\n",
       "</table>\n",
       "</div>"
      ],
      "text/plain": [
       "    year  arrivals_total  arrivals_filtered  missing_ratio\n",
       "20  2020       2146435.0             5746.0       0.002677\n",
       "21  2021        745871.0             4697.0       0.006297\n",
       "22  2022       3630031.0            17690.0       0.004873\n",
       "23  2023       5908341.0            26013.0       0.004403\n",
       "24  2024       6773619.0            29956.0       0.004422"
      ]
     },
     "execution_count": 123,
     "metadata": {},
     "output_type": "execute_result"
    }
   ],
   "source": [
    "missing_arrivals_by_country_df = calculate_missing_data_over_time(\n",
    "    df = df,\n",
    "    group_column=\"year\",\n",
    "    filter_column=\"country\",\n",
    "    filter_value=missing_country_cats,\n",
    "    value_column=\"arrivals\"\n",
    ")\n",
    "\n",
    "missing_arrivals_by_country_df[\"missing_ratio\"] = missing_arrivals_by_country_df[\"arrivals_filtered\"] / missing_arrivals_by_country_df[\"arrivals_total\"]\n",
    "\n",
    "missing_arrivals_by_country_df.tail()"
   ]
  },
  {
   "cell_type": "code",
   "execution_count": 141,
   "id": "17303cbc",
   "metadata": {},
   "outputs": [
    {
     "data": {
      "image/png": "[encoded data removed]",
      "text/plain": [
       "<Figure size 800x500 with 1 Axes>"
      ]
     },
     "metadata": {},
     "output_type": "display_data"
    }
   ],
   "source": [
    "fig, ax = plt.subplots(figsize=(8,5))\n",
    "sns.lineplot(data=missing_arrivals_by_country_df, x=\"year\", y=\"missing_ratio\", ax=ax, marker=\"o\")\n",
    "ax.set_title(\"Missing country information per year\")\n",
    "plt.show()"
   ]
  },
  {
   "cell_type": "markdown",
   "id": "1f6ff86a",
   "metadata": {},
   "source": [
    "#### Country and Continent conclusions\n",
    "* For the last (~5) few years, missing residence continent data is virtually 0, so we should be able to ignore these.\n",
    "* Given the same time frame, ~0.5% of the arrivals have unavailable information for country of residence.  \n",
    "\n",
    "Using only the continent level seems to be more reasonable."
   ]
  },
  {
   "cell_type": "markdown",
   "id": "1698f460",
   "metadata": {},
   "source": [
    "### State"
   ]
  },
  {
   "cell_type": "code",
   "execution_count": 133,
   "id": "3c151543",
   "metadata": {},
   "outputs": [
    {
     "data": {
      "text/plain": [
       "array(['Acre', 'Amapá', 'Amazonas', 'Bahia', 'Ceará', 'Distrito Federal',\n",
       "       'Mato Grosso do Sul', 'Minas Gerais', 'Pará', 'Paraná',\n",
       "       'Pernambuco', 'Rio de Janeiro', 'Rio Grande do Norte',\n",
       "       'Rio Grande do Sul', 'Roraima', 'Santa Catarina', 'São Paulo',\n",
       "       'Outras Unidades da Federação'], dtype=object)"
      ]
     },
     "execution_count": 133,
     "metadata": {},
     "output_type": "execute_result"
    }
   ],
   "source": [
    "df[\"state\"].unique()"
   ]
  },
  {
   "cell_type": "code",
   "execution_count": 139,
   "id": "aa1bf73c",
   "metadata": {},
   "outputs": [
    {
     "data": {
      "text/html": [
       "<div>\n",
       "<style scoped>\n",
       "    .dataframe tbody tr th:only-of-type {\n",
       "        vertical-align: middle;\n",
       "    }\n",
       "\n",
       "    .dataframe tbody tr th {\n",
       "        vertical-align: top;\n",
       "    }\n",
       "\n",
       "    .dataframe thead th {\n",
       "        text-align: right;\n",
       "    }\n",
       "</style>\n",
       "<table border=\"1\" class=\"dataframe\">\n",
       "  <thead>\n",
       "    <tr style=\"text-align: right;\">\n",
       "      <th></th>\n",
       "      <th>year</th>\n",
       "      <th>arrivals_total</th>\n",
       "      <th>arrivals_filtered</th>\n",
       "      <th>missing_ratio</th>\n",
       "    </tr>\n",
       "  </thead>\n",
       "  <tbody>\n",
       "    <tr>\n",
       "      <th>20</th>\n",
       "      <td>2020</td>\n",
       "      <td>2146435.0</td>\n",
       "      <td>3919.0</td>\n",
       "      <td>0.001826</td>\n",
       "    </tr>\n",
       "    <tr>\n",
       "      <th>21</th>\n",
       "      <td>2021</td>\n",
       "      <td>745871.0</td>\n",
       "      <td>2044.0</td>\n",
       "      <td>0.002740</td>\n",
       "    </tr>\n",
       "    <tr>\n",
       "      <th>22</th>\n",
       "      <td>2022</td>\n",
       "      <td>3630031.0</td>\n",
       "      <td>6950.0</td>\n",
       "      <td>0.001915</td>\n",
       "    </tr>\n",
       "    <tr>\n",
       "      <th>23</th>\n",
       "      <td>2023</td>\n",
       "      <td>5908341.0</td>\n",
       "      <td>15304.0</td>\n",
       "      <td>0.002590</td>\n",
       "    </tr>\n",
       "    <tr>\n",
       "      <th>24</th>\n",
       "      <td>2024</td>\n",
       "      <td>6773619.0</td>\n",
       "      <td>22473.0</td>\n",
       "      <td>0.003318</td>\n",
       "    </tr>\n",
       "  </tbody>\n",
       "</table>\n",
       "</div>"
      ],
      "text/plain": [
       "    year  arrivals_total  arrivals_filtered  missing_ratio\n",
       "20  2020       2146435.0             3919.0       0.001826\n",
       "21  2021        745871.0             2044.0       0.002740\n",
       "22  2022       3630031.0             6950.0       0.001915\n",
       "23  2023       5908341.0            15304.0       0.002590\n",
       "24  2024       6773619.0            22473.0       0.003318"
      ]
     },
     "execution_count": 139,
     "metadata": {},
     "output_type": "execute_result"
    }
   ],
   "source": [
    "missing_arrivals_by_state_df = calculate_missing_data_over_time(\n",
    "    df = df,\n",
    "    group_column=\"year\",\n",
    "    filter_column=\"state\",\n",
    "    filter_value=[\"Outras Unidades da Federação\"],\n",
    "    value_column=\"arrivals\"\n",
    ")\n",
    "\n",
    "missing_arrivals_by_state_df[\"missing_ratio\"] = missing_arrivals_by_state_df[\"arrivals_filtered\"] / missing_arrivals_by_state_df[\"arrivals_total\"]\n",
    "\n",
    "missing_arrivals_by_state_df.tail()"
   ]
  },
  {
   "cell_type": "code",
   "execution_count": 142,
   "id": "f9b9487e",
   "metadata": {},
   "outputs": [
    {
     "data": {
      "image/png": "[encoded data removed]",
      "text/plain": [
       "<Figure size 800x500 with 1 Axes>"
      ]
     },
     "metadata": {},
     "output_type": "display_data"
    }
   ],
   "source": [
    "fig, ax = plt.subplots(figsize=(8,5))\n",
    "sns.lineplot(data=missing_arrivals_by_state_df, x=\"year\", y=\"missing_ratio\", ax=ax, marker=\"o\")\n",
    "ax.set_title(\"Missing state information in arrivals per year\")\n",
    "plt.show()"
   ]
  },
  {
   "cell_type": "markdown",
   "id": "5b173fc1",
   "metadata": {},
   "source": [
    "#### Conclusions about state data\n",
    "For recent years (~5) the fraction of missing state information in arrivals floats around 0.25 % and its more or less stable, which should not impact any usage on the time series modeling."
   ]
  },
  {
   "cell_type": "markdown",
   "id": "411fa430",
   "metadata": {},
   "source": [
    "### Entry route"
   ]
  },
  {
   "cell_type": "markdown",
   "id": "2aff3c89",
   "metadata": {},
   "source": [
    "It seems to be an inconsistance in naming conventions of maritime and air entry route data."
   ]
  },
  {
   "cell_type": "code",
   "execution_count": 144,
   "id": "2ed4e4ee",
   "metadata": {},
   "outputs": [
    {
     "data": {
      "text/plain": [
       "array(['Terrestre', 'Fluvial', 'Aérea', 'Marítima', 'Aéreo', 'Marítimo'],\n",
       "      dtype=object)"
      ]
     },
     "execution_count": 144,
     "metadata": {},
     "output_type": "execute_result"
    }
   ],
   "source": [
    "df[\"entry_route\"].unique()"
   ]
  },
  {
   "cell_type": "code",
   "execution_count": 169,
   "id": "77499f8f",
   "metadata": {},
   "outputs": [
    {
     "data": {
      "text/html": [
       "<div>\n",
       "<style scoped>\n",
       "    .dataframe tbody tr th:only-of-type {\n",
       "        vertical-align: middle;\n",
       "    }\n",
       "\n",
       "    .dataframe tbody tr th {\n",
       "        vertical-align: top;\n",
       "    }\n",
       "\n",
       "    .dataframe thead th {\n",
       "        text-align: right;\n",
       "    }\n",
       "</style>\n",
       "<table border=\"1\" class=\"dataframe\">\n",
       "  <thead>\n",
       "    <tr style=\"text-align: right;\">\n",
       "      <th></th>\n",
       "      <th>year</th>\n",
       "      <th>entry_route</th>\n",
       "      <th>rows</th>\n",
       "    </tr>\n",
       "  </thead>\n",
       "  <tbody>\n",
       "    <tr>\n",
       "      <th>0</th>\n",
       "      <td>2000</td>\n",
       "      <td>Aérea</td>\n",
       "      <td>6468</td>\n",
       "    </tr>\n",
       "    <tr>\n",
       "      <th>1</th>\n",
       "      <td>2000</td>\n",
       "      <td>Fluvial</td>\n",
       "      <td>2940</td>\n",
       "    </tr>\n",
       "    <tr>\n",
       "      <th>2</th>\n",
       "      <td>2000</td>\n",
       "      <td>Marítima</td>\n",
       "      <td>4704</td>\n",
       "    </tr>\n",
       "    <tr>\n",
       "      <th>3</th>\n",
       "      <td>2000</td>\n",
       "      <td>Terrestre</td>\n",
       "      <td>3528</td>\n",
       "    </tr>\n",
       "    <tr>\n",
       "      <th>4</th>\n",
       "      <td>2001</td>\n",
       "      <td>Aérea</td>\n",
       "      <td>6468</td>\n",
       "    </tr>\n",
       "    <tr>\n",
       "      <th>...</th>\n",
       "      <td>...</td>\n",
       "      <td>...</td>\n",
       "      <td>...</td>\n",
       "    </tr>\n",
       "    <tr>\n",
       "      <th>95</th>\n",
       "      <td>2023</td>\n",
       "      <td>Terrestre</td>\n",
       "      <td>11017</td>\n",
       "    </tr>\n",
       "    <tr>\n",
       "      <th>96</th>\n",
       "      <td>2024</td>\n",
       "      <td>Aérea</td>\n",
       "      <td>13056</td>\n",
       "    </tr>\n",
       "    <tr>\n",
       "      <th>97</th>\n",
       "      <td>2024</td>\n",
       "      <td>Fluvial</td>\n",
       "      <td>676</td>\n",
       "    </tr>\n",
       "    <tr>\n",
       "      <th>98</th>\n",
       "      <td>2024</td>\n",
       "      <td>Marítima</td>\n",
       "      <td>2174</td>\n",
       "    </tr>\n",
       "    <tr>\n",
       "      <th>99</th>\n",
       "      <td>2024</td>\n",
       "      <td>Terrestre</td>\n",
       "      <td>6950</td>\n",
       "    </tr>\n",
       "  </tbody>\n",
       "</table>\n",
       "<p>100 rows × 3 columns</p>\n",
       "</div>"
      ],
      "text/plain": [
       "    year entry_route   rows\n",
       "0   2000       Aérea   6468\n",
       "1   2000     Fluvial   2940\n",
       "2   2000    Marítima   4704\n",
       "3   2000   Terrestre   3528\n",
       "4   2001       Aérea   6468\n",
       "..   ...         ...    ...\n",
       "95  2023   Terrestre  11017\n",
       "96  2024       Aérea  13056\n",
       "97  2024     Fluvial    676\n",
       "98  2024    Marítima   2174\n",
       "99  2024   Terrestre   6950\n",
       "\n",
       "[100 rows x 3 columns]"
      ]
     },
     "execution_count": 169,
     "metadata": {},
     "output_type": "execute_result"
    }
   ],
   "source": [
    "entry_route_df = df.groupby([\"year\",\"entry_route\"]).size().reset_index()\n",
    "entry_route_df = entry_route_df.rename(columns={0:\"rows\"})\n",
    "entry_route_df"
   ]
  },
  {
   "cell_type": "code",
   "execution_count": 178,
   "id": "e6fe21ec",
   "metadata": {},
   "outputs": [
    {
     "data": {
      "image/png": "[encoded data removed]",
      "text/plain": [
       "<Figure size 800x500 with 1 Axes>"
      ]
     },
     "metadata": {},
     "output_type": "display_data"
    }
   ],
   "source": [
    "fig, ax = plt.subplots(figsize=(8,5))\n",
    "sns.lineplot(data=entry_route_df, x=\"year\", y=\"rows\", hue=\"entry_route\", marker=\"o\",ax=ax)\n",
    "ax.set_xticks(np.arange(start=2000, stop=2025, step=2))\n",
    "ax.set_title(\"Number of rows in the dataset by year by entry route\")\n",
    "\n",
    "plt.show()\n"
   ]
  },
  {
   "cell_type": "markdown",
   "id": "39dbe61f",
   "metadata": {},
   "source": [
    "#### Conclusions about entry route data\n",
    "The year of 2023 is the only with inconsistent naming convention. Aéreo and Marítimo should be replaced by Aérea and Marítima."
   ]
  },
  {
   "cell_type": "markdown",
   "id": "c0a0fb74",
   "metadata": {},
   "source": [
    "### Months"
   ]
  },
  {
   "cell_type": "code",
   "execution_count": 179,
   "id": "7cdc1bf0",
   "metadata": {},
   "outputs": [
    {
     "data": {
      "text/plain": [
       "array(['janeiro', 'fevereiro', 'março', 'abril', 'maio', 'junho', 'julho',\n",
       "       'agosto', 'setembro', 'outubro', 'novembro', 'dezembro', 'Janeiro',\n",
       "       'Fevereiro', 'Março', 'Abril', 'Maio', 'Junho', 'Julho', 'Agosto',\n",
       "       'Setembro', 'Outubro', 'Novembro', 'Dezembro', 'Marco'],\n",
       "      dtype=object)"
      ]
     },
     "execution_count": 179,
     "metadata": {},
     "output_type": "execute_result"
    }
   ],
   "source": [
    "df[\"month\"].unique()"
   ]
  },
  {
   "cell_type": "markdown",
   "id": "04b03dc8",
   "metadata": {},
   "source": [
    "Clearly there is a problem, but it should be fine if we normalize the data."
   ]
  },
  {
   "cell_type": "code",
   "execution_count": 180,
   "id": "543a1350",
   "metadata": {},
   "outputs": [
    {
     "data": {
      "text/plain": [
       "array([ 1,  2,  3,  4,  5,  6,  7,  8,  9, 10, 11, 12])"
      ]
     },
     "execution_count": 180,
     "metadata": {},
     "output_type": "execute_result"
    }
   ],
   "source": [
    "df[\"month_id\"].unique()"
   ]
  },
  {
   "cell_type": "markdown",
   "id": "9afd5bfc",
   "metadata": {},
   "source": [
    "Or we should be able to use the month id."
   ]
  },
  {
   "cell_type": "code",
   "execution_count": 181,
   "id": "7a23a6f3",
   "metadata": {},
   "outputs": [
    {
     "data": {
      "text/plain": [
       "month_id\n",
       "12    65817\n",
       "11    65479\n",
       "10    64913\n",
       "4     63257\n",
       "1     63106\n",
       "2     63084\n",
       "3     63072\n",
       "9     62864\n",
       "7     62804\n",
       "8     62797\n",
       "5     62722\n",
       "6     62657\n",
       "Name: count, dtype: int64"
      ]
     },
     "execution_count": 181,
     "metadata": {},
     "output_type": "execute_result"
    }
   ],
   "source": [
    "df[\"month_id\"].value_counts()"
   ]
  },
  {
   "cell_type": "code",
   "execution_count": 187,
   "id": "2ea95489",
   "metadata": {},
   "outputs": [
    {
     "data": {
      "text/plain": [
       "month_id\n",
       "12    56\n",
       "2     54\n",
       "11    54\n",
       "1     53\n",
       "10    53\n",
       "4     53\n",
       "3     52\n",
       "5     52\n",
       "6     52\n",
       "8     50\n",
       "7     49\n",
       "9     49\n",
       "Name: count, dtype: int64"
      ]
     },
     "execution_count": 187,
     "metadata": {},
     "output_type": "execute_result"
    }
   ],
   "source": [
    "df[(df[\"state\"]==\"Rio de Janeiro\") & (df[\"country\"] == \"Argentina\")][\"month_id\"].value_counts().sort_values(ascending=False) # Too many decembers. Why?"
   ]
  },
  {
   "cell_type": "code",
   "execution_count": 195,
   "id": "70432682",
   "metadata": {},
   "outputs": [],
   "source": [
    "df[(df[\"state\"]==\"Rio de Janeiro\") & (df[\"country\"] == \"Argentina\")].to_excel(\"teste.xlsx\")"
   ]
  },
  {
   "cell_type": "markdown",
   "id": "814e7677",
   "metadata": {},
   "source": [
    "Further analysis identified that there are \"repeated rows\" on the raw data, with different values.\n",
    "E.g.: Arrivals in rio de janeiro from argentina on january 2024 by maritime entry route: there is a row with 984 arrivals, and other row with 9203 arrivals.\n",
    "\n",
    "We probably should sum them.\n",
    "\n",
    "It seems though that we can't rely on row counting to guarantee data quality."
   ]
  },
  {
   "cell_type": "markdown",
   "id": "90c92c57",
   "metadata": {},
   "source": [
    "## Final Remarks\n",
    "**When creating the data cleaning / pre-processing pipeline, we should:**\n",
    "* Normalize column names and apply the synonyms to the desired schema, like it was done in this notebook.\n",
    "* Normalize state names (because why not?)\n",
    "* Create a datetime column that joins year and month_id columns.\n",
    "* Adjust entry_route names for the year or 2023 (or just use the id).\n",
    "\n",
    "**In order to build the time series modeing:**\n",
    "* It seems to be reasonable to not use country data, since it is more prone to inconsistencies.\n",
    "* Therefore, the time series levels could be: Entry route, state and continent of origin. Not necessairly all of them. I should speak with my director.\n",
    "\n",
    "Also, there are weird cases of duplicate rows, with different arrivals values. We should evaluate if this means that the Dataset is garbage or not. (e.g.: Same month (january), same year (2024), same entry route (maritime), same state (Rio de Janeiro), and different arrivals number in two rows). Since there is no metadata available, i don't know what to do. We might just assume that it is some entry error, and, therefore, we could sum everything."
   ]
  },
  {
   "cell_type": "code",
   "execution_count": null,
   "id": "d306b7ec",
   "metadata": {},
   "outputs": [],
   "source": []
  }
 ],
 "metadata": {
  "kernelspec": {
   "display_name": "time_series",
   "language": "python",
   "name": "python3"
  },
  "language_info": {
   "codemirror_mode": {
    "name": "ipython",
    "version": 3
   },
   "file_extension": ".py",
   "mimetype": "text/x-python",
   "name": "python",
   "nbconvert_exporter": "python",
   "pygments_lexer": "ipython3",
   "version": "3.12.4"
  }
 },
 "nbformat": 4,
 "nbformat_minor": 5
}
